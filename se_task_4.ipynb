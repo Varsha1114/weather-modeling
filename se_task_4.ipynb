{
  "nbformat": 4,
  "nbformat_minor": 0,
  "metadata": {
    "colab": {
      "provenance": [],
      "authorship_tag": "ABX9TyM92nzWhGMzZxjiPEELbHLI",
      "include_colab_link": true
    },
    "kernelspec": {
      "name": "python3",
      "display_name": "Python 3"
    },
    "language_info": {
      "name": "python"
    }
  },
  "cells": [
    {
      "cell_type": "markdown",
      "metadata": {
        "id": "view-in-github",
        "colab_type": "text"
      },
      "source": [
        "<a href=\"https://colab.research.google.com/github/Varsha1114/weather-modeling/blob/main/se_task_4.ipynb\" target=\"_parent\"><img src=\"https://colab.research.google.com/assets/colab-badge.svg\" alt=\"Open In Colab\"/></a>"
      ]
    },
    {
      "cell_type": "code",
      "execution_count": null,
      "metadata": {
        "colab": {
          "base_uri": "https://localhost:8080/"
        },
        "id": "uGcG159IpHEV",
        "outputId": "6d796b61-e939-4ba7-a2ad-a227c152fb34"
      },
      "outputs": [
        {
          "output_type": "stream",
          "name": "stdout",
          "text": [
            "Using hardcoded values, result = 27\n"
          ]
        }
      ],
      "source": [
        "# Stage 1: Hardcoding Variables\n",
        "def quadratic_model(a, b, c, x):\n",
        "    return a * x**2 + b * x + c\n",
        "a = 1\n",
        "b = 2\n",
        "c = 3\n",
        "x = 4\n",
        "result = quadratic_model(a, b, c, x)\n",
        "print(f\"Using hardcoded values, result = {result}\")"
      ]
    },
    {
      "cell_type": "code",
      "source": [
        "# Stage 2: Accepting Variables via Keyboard Input\n",
        "def quadratic_model(a, b, c, x):\n",
        "    return a * x**2 + b * x + c\n",
        "try:\n",
        "    a = float(input(\"Enter value for a: \"))\n",
        "    b = float(input(\"Enter value for b: \"))\n",
        "    c = float(input(\"Enter value for c: \"))\n",
        "    x = float(input(\"Enter value for x: \"))\n",
        "    result = quadratic_model(a, b, c, x)\n",
        "    print(f\"Calculated result = {result}\")\n",
        "except ValueError:\n",
        "    print(\"Please enter valid numeric inputs.\")"
      ],
      "metadata": {
        "colab": {
          "base_uri": "https://localhost:8080/"
        },
        "id": "guCiRSm3qeOD",
        "outputId": "a8d7a4eb-b47d-4443-f81b-f92a65e28a4f"
      },
      "execution_count": null,
      "outputs": [
        {
          "output_type": "stream",
          "name": "stdout",
          "text": [
            "Enter value for a: 5\n",
            "Enter value for b: 6\n",
            "Enter value for c: 7\n",
            "Enter value for x: 8\n",
            "Calculated result = 375.0\n"
          ]
        }
      ]
    },
    {
      "cell_type": "code",
      "source": [
        "# Stage 3: Reading Variables from a File\n",
        "def quadratic_model(a, b, c, x):\n",
        "    \"\"\"Compute the quadratic formula for weather modeling.\"\"\"\n",
        "    return a * x**2 + b * x + c\n",
        "\n",
        "file_path = \"input.txt\"\n",
        "\n",
        "try:\n",
        "    with open(file_path, 'r') as file:\n",
        "        lines = file.readlines()\n",
        "        for line in lines:\n",
        "            a, b, c, x = map(float, line.strip().split())\n",
        "            result = quadratic_model(a, b, c, x)\n",
        "            print(f\"For a={a}, b={b}, c={c}, x={x}, result={result}\")\n",
        "except FileNotFoundError:\n",
        "    print(f\"Error: File '{file_path}' not found.\")\n",
        "except ValueError:\n",
        "    print(\"Error: Invalid data format in the file.\")"
      ],
      "metadata": {
        "colab": {
          "base_uri": "https://localhost:8080/"
        },
        "id": "eg5x3h7nrENG",
        "outputId": "4382d105-c24c-4ec7-cf27-8f582d257acc"
      },
      "execution_count": null,
      "outputs": [
        {
          "output_type": "stream",
          "name": "stdout",
          "text": [
            "For a=1.0, b=2.0, c=3.0, x=4.0, result=27.0\n",
            "For a=2.0, b=3.0, c=4.0, x=5.0, result=69.0\n",
            "For a=1.0, b=1.0, c=1.0, x=2.0, result=7.0\n"
          ]
        }
      ]
    },
    {
      "cell_type": "code",
      "source": [
        "# Stage 4: Processing a Single Set of Inputs\n",
        "def quadratic_model(a, b, c, x):\n",
        "    return a * x**2 + b * x + c\n",
        "try:\n",
        "    a = float(input(\"Enter value for a: \"))\n",
        "    b = float(input(\"Enter value for b: \"))\n",
        "    c = float(input(\"Enter value for c: \"))\n",
        "    x = float(input(\"Enter value for x: \"))\n",
        "    result = quadratic_model(a, b, c, x)\n",
        "    print(f\"Single computation result = {result}\")\n",
        "except ValueError:\n",
        "    print(\"Please enter valid numeric inputs.\")"
      ],
      "metadata": {
        "colab": {
          "base_uri": "https://localhost:8080/"
        },
        "id": "OeX3rze_rdnq",
        "outputId": "27d355eb-4f8c-45d2-b5c8-c98e07b46e4b"
      },
      "execution_count": null,
      "outputs": [
        {
          "output_type": "stream",
          "name": "stdout",
          "text": [
            "Enter value for a: 4\n",
            "Enter value for b: 8\n",
            "Enter value for c: 6\n",
            "Enter value for x: 7\n",
            "Single computation result = 258.0\n"
          ]
        }
      ]
    },
    {
      "cell_type": "code",
      "source": [
        "# Stage 5: Processing Multiple Sets of Inputs\n",
        "def quadratic_model(a, b, c, x):\n",
        "    return a * x**2 + b * x + c\n",
        "file_path = \"input.txt\"\n",
        "\n",
        "try:\n",
        "    with open(file_path, 'r') as file:\n",
        "        lines = file.readlines()\n",
        "        print(\"Processing multiple sets of inputs...\")\n",
        "        for index, line in enumerate(lines):\n",
        "            a, b, c, x = map(float, line.strip().split())\n",
        "            result = quadratic_model(a, b, c, x)\n",
        "            print(f\"Set {index + 1}: a={a}, b={b}, c={c}, x={x}, result={result}\")\n",
        "except FileNotFoundError:\n",
        "    print(f\"Error: File '{file_path}' not found.\")\n",
        "except ValueError:\n",
        "    print(\"Error: Invalid data format in the file.\")\n"
      ],
      "metadata": {
        "colab": {
          "base_uri": "https://localhost:8080/"
        },
        "id": "29DTo3cTsN0h",
        "outputId": "0d3bf974-a61d-4731-d561-b2b058551cb6"
      },
      "execution_count": null,
      "outputs": [
        {
          "output_type": "stream",
          "name": "stdout",
          "text": [
            "Processing multiple sets of inputs...\n",
            "Set 1: a=1.0, b=2.0, c=3.0, x=4.0, result=27.0\n",
            "Set 2: a=2.0, b=3.0, c=4.0, x=5.0, result=69.0\n",
            "Set 3: a=1.0, b=1.0, c=1.0, x=2.0, result=7.0\n",
            "Set 4: a=0.0, b=-1.0, c=2.0, x=1.0, result=1.0\n"
          ]
        }
      ]
    }
  ]
}